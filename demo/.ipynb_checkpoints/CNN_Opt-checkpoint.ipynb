{
 "cells": [
  {
   "cell_type": "code",
   "execution_count": 1,
   "id": "9b40cbec",
   "metadata": {},
   "outputs": [],
   "source": [
    "import random\n",
    "\n",
    "import matplotlib as mpl\n",
    "import numpy as np\n",
    "import torch\n",
    "import torch.utils.data\n",
    "\n",
    "import theseus as th\n",
    "import theseus.utils.examples as theg\n",
    "\n",
    "%load_ext autoreload\n",
    "%autoreload 2\n",
    "\n",
    "torch.set_default_dtype(torch.double)\n",
    "\n",
    "device = \"cuda:0\" if torch.cuda.is_available else \"cpu\"\n",
    "seed = 0\n",
    "torch.random.manual_seed(seed)\n",
    "random.seed(seed)\n",
    "np.random.seed(seed)\n",
    "\n",
    "mpl.rcParams[\"figure.facecolor\"] = \"white\"\n",
    "mpl.rcParams[\"font.size\"] = 16"
   ]
  },
  {
   "cell_type": "code",
   "execution_count": 4,
   "id": "df678ec7",
   "metadata": {},
   "outputs": [
    {
     "name": "stdout",
     "output_type": "stream",
     "text": [
      "/home/peteryu/SEANRobotGuide/demo\r\n"
     ]
    }
   ],
   "source": [
    "!pwd"
   ]
  },
  {
   "cell_type": "code",
   "execution_count": 22,
   "id": "b9290026",
   "metadata": {},
   "outputs": [
    {
     "name": "stdout",
     "output_type": "stream",
     "text": [
      "1000\n",
      "map_tensor          : torch.Size([1, 128, 128])\n",
      "sdf_origin          : torch.Size([1, 2])\n",
      "cell_size           : torch.Size([1, 1])\n",
      "sdf_data            : torch.Size([1, 128, 128])\n",
      "expert_trajectory   : torch.Size([1, 4, 101])\n",
      "file_id             : ['tarpit_741']\n"
     ]
    }
   ],
   "source": [
    "dataset_dir = \"/home/peteryu/SEANRobotGuide/data/motion-planning-2d/dataset\"\n",
    "train_dataset = theg.TrajectoryDataset(True, 1000, dataset_dir, map_type=\"tarpit\", filter_collision_maps=False)\n",
    "train_dl = torch.utils.data.DataLoader(train_dataset)\n",
    "\n",
    "# test_dataset = theg.TrajectoryDataset(False, 1000, dataset_dir, val_ratio=0.3, map_type=\"tarpit\", )\n",
    "# test_dl = torch.utils.data.DataLoader(test_dataset)\n",
    "\n",
    "print(len(train_dl))\n",
    "\n",
    "batch = next(iter(train_dl))\n",
    "for k, v in batch.items():\n",
    "    if k != \"file_id\":\n",
    "        print(f\"{k:20s}: {v.shape}\")\n",
    "    else:\n",
    "        print(f\"{k:20s}: {v}\")"
   ]
  },
  {
   "cell_type": "code",
   "execution_count": 23,
   "id": "2e09374c",
   "metadata": {},
   "outputs": [
    {
     "ename": "IndexError",
     "evalue": "list index out of range",
     "output_type": "error",
     "traceback": [
      "\u001b[0;31m---------------------------------------------------------------------------\u001b[0m",
      "\u001b[0;31mIndexError\u001b[0m                                Traceback (most recent call last)",
      "Input \u001b[0;32mIn [23]\u001b[0m, in \u001b[0;36m<cell line: 10>\u001b[0;34m()\u001b[0m\n\u001b[1;32m      7\u001b[0m \u001b[38;5;28;01mfor\u001b[39;00m i \u001b[38;5;129;01min\u001b[39;00m \u001b[38;5;28mrange\u001b[39m(\u001b[38;5;241m10\u001b[39m):\n\u001b[1;32m      8\u001b[0m     trajectories\u001b[38;5;241m.\u001b[39mappend(\u001b[38;5;28mnext\u001b[39m(\u001b[38;5;28miter\u001b[39m(train_dl))[\u001b[38;5;124m\"\u001b[39m\u001b[38;5;124mexpert_trajectory\u001b[39m\u001b[38;5;124m\"\u001b[39m])\n\u001b[0;32m---> 10\u001b[0m figs \u001b[38;5;241m=\u001b[39m \u001b[43mtheg\u001b[49m\u001b[38;5;241;43m.\u001b[39;49m\u001b[43mgenerate_trajectory_figs\u001b[49m\u001b[43m(\u001b[49m\n\u001b[1;32m     11\u001b[0m \u001b[43m    \u001b[49m\u001b[43mbatch\u001b[49m\u001b[43m[\u001b[49m\u001b[38;5;124;43m\"\u001b[39;49m\u001b[38;5;124;43mmap_tensor\u001b[39;49m\u001b[38;5;124;43m\"\u001b[39;49m\u001b[43m]\u001b[49m\u001b[43m,\u001b[49m\u001b[43m \u001b[49m\n\u001b[1;32m     12\u001b[0m \u001b[43m    \u001b[49m\u001b[43msdf\u001b[49m\u001b[43m,\u001b[49m\u001b[43m \u001b[49m\n\u001b[1;32m     13\u001b[0m \u001b[43m    \u001b[49m\u001b[43mtrajectories\u001b[49m\u001b[43m,\u001b[49m\u001b[43m \u001b[49m\n\u001b[1;32m     14\u001b[0m \u001b[43m    \u001b[49m\u001b[43mrobot_radius\u001b[49m\u001b[38;5;241;43m=\u001b[39;49m\u001b[38;5;241;43m0.4\u001b[39;49m\u001b[43m,\u001b[49m\u001b[43m \u001b[49m\n\u001b[1;32m     15\u001b[0m \u001b[43m    \u001b[49m\u001b[43mlabels\u001b[49m\u001b[38;5;241;43m=\u001b[39;49m\u001b[43m[\u001b[49m\u001b[38;5;124;43m\"\u001b[39;49m\u001b[38;5;124;43mexpert trajectory\u001b[39;49m\u001b[38;5;124;43m\"\u001b[39;49m\u001b[43m]\u001b[49m\u001b[43m,\u001b[49m\u001b[43m \u001b[49m\n\u001b[1;32m     16\u001b[0m \u001b[43m    \u001b[49m\u001b[43mfig_idx_robot\u001b[49m\u001b[38;5;241;43m=\u001b[39;49m\u001b[38;5;241;43m0\u001b[39;49m\u001b[43m,\u001b[49m\n\u001b[1;32m     17\u001b[0m \u001b[43m    \u001b[49m\u001b[43mfigsize\u001b[49m\u001b[38;5;241;43m=\u001b[39;49m\u001b[43m(\u001b[49m\u001b[38;5;241;43m10\u001b[39;49m\u001b[43m,\u001b[49m\u001b[43m \u001b[49m\u001b[38;5;241;43m4\u001b[39;49m\u001b[43m)\u001b[49m\u001b[43m,\u001b[49m\n\u001b[1;32m     18\u001b[0m \u001b[43m    \u001b[49m\u001b[38;5;66;43;03m# plot_sdf=True,\u001b[39;49;00m\n\u001b[1;32m     19\u001b[0m \u001b[43m)\u001b[49m\n\u001b[1;32m     20\u001b[0m \u001b[38;5;28mprint\u001b[39m(\u001b[38;5;28mlen\u001b[39m(figs))\n\u001b[1;32m     21\u001b[0m figs[\u001b[38;5;241m0\u001b[39m]\u001b[38;5;241m.\u001b[39mshow()\n",
      "File \u001b[0;32m~/miniconda3/envs/py38/lib/python3.8/site-packages/theseus/utils/examples/motion_planning/misc.py:187\u001b[0m, in \u001b[0;36mgenerate_trajectory_figs\u001b[0;34m(map_tensor, sdf, trajectories, robot_radius, max_num_figures, labels, fig_idx_robot, figsize)\u001b[0m\n\u001b[1;32m    185\u001b[0m         patch_coll \u001b[38;5;241m=\u001b[39m _add_robot_to_trajectory(col, row, radius)\n\u001b[1;32m    186\u001b[0m         axs\u001b[38;5;241m.\u001b[39madd_collection(patch_coll)\n\u001b[0;32m--> 187\u001b[0m     patches\u001b[38;5;241m.\u001b[39mappend(mpl\u001b[38;5;241m.\u001b[39mpatches\u001b[38;5;241m.\u001b[39mPatch(color\u001b[38;5;241m=\u001b[39mcolors[t_idx], label\u001b[38;5;241m=\u001b[39m\u001b[43mlabels\u001b[49m\u001b[43m[\u001b[49m\u001b[43mt_idx\u001b[49m\u001b[43m]\u001b[49m))\n\u001b[1;32m    188\u001b[0m patches\u001b[38;5;241m.\u001b[39mappend(\n\u001b[1;32m    189\u001b[0m     mpl\u001b[38;5;241m.\u001b[39mpatches\u001b[38;5;241m.\u001b[39mPatch(color\u001b[38;5;241m=\u001b[39m\u001b[38;5;124m\"\u001b[39m\u001b[38;5;124mmagenta\u001b[39m\u001b[38;5;124m\"\u001b[39m, label\u001b[38;5;241m=\u001b[39m\u001b[38;5;124mf\u001b[39m\u001b[38;5;124m\"\u001b[39m\u001b[38;5;124mradius = \u001b[39m\u001b[38;5;132;01m{\u001b[39;00mrobot_radius\u001b[38;5;132;01m}\u001b[39;00m\u001b[38;5;124m\"\u001b[39m)\n\u001b[1;32m    190\u001b[0m )\n\u001b[1;32m    191\u001b[0m axs\u001b[38;5;241m.\u001b[39mlegend(handles\u001b[38;5;241m=\u001b[39mpatches, fontsize\u001b[38;5;241m=\u001b[39m\u001b[38;5;241m10\u001b[39m)\n",
      "\u001b[0;31mIndexError\u001b[0m: list index out of range"
     ]
    },
    {
     "data": {
      "image/png": "[encoded data removed]",
      "text/plain": [
       "<Figure size 720x288 with 1 Axes>"
      ]
     },
     "metadata": {
      "needs_background": "light"
     },
     "output_type": "display_data"
    }
   ],
   "source": [
    "sdf = th.eb.SignedDistanceField2D(\n",
    "    th.Point2(batch[\"sdf_origin\"]),\n",
    "    th.Variable(batch[\"cell_size\"]),\n",
    "    th.Variable(batch[\"sdf_data\"]),\n",
    ")\n",
    "trajectories = []\n",
    "for i in range(10):\n",
    "    batch = next(iter(train_dl))\n",
    "\n",
    "    figs = theg.generate_trajectory_figs(\n",
    "        batch[\"map_tensor\"], \n",
    "        sdf, \n",
    "        [batch[\"expert_trajectory\"]],\n",
    "        robot_radius=0.4, \n",
    "        labels=[\"expert trajectory\"], \n",
    "        fig_idx_robot=0,\n",
    "        figsize=(10, 4),\n",
    "        # plot_sdf=True,\n",
    "    )\n",
    "    \n",
    "    print(len(figs))\n",
    "    figs[0].show()"
   ]
  },
  {
   "cell_type": "code",
   "execution_count": null,
   "id": "62b020af",
   "metadata": {},
   "outputs": [],
   "source": []
  }
 ],
 "metadata": {
  "kernelspec": {
   "display_name": "py38",
   "language": "python",
   "name": "py38"
  },
  "language_info": {
   "codemirror_mode": {
    "name": "ipython",
    "version": 3
   },
   "file_extension": ".py",
   "mimetype": "text/x-python",
   "name": "python",
   "nbconvert_exporter": "python",
   "pygments_lexer": "ipython3",
   "version": "3.8.13"
  }
 },
 "nbformat": 4,
 "nbformat_minor": 5
}
