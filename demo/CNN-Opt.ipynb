{
 "cells": [
  {
   "cell_type": "code",
   "execution_count": 1,
   "id": "fcaf8dd4",
   "metadata": {},
   "outputs": [],
   "source": [
    "import random\n",
    "\n",
    "import matplotlib as mpl\n",
    "import numpy as np\n",
    "import torch\n",
    "import torch.utils.data\n",
    "import torch.nn.functional as F\n",
    "\n",
    "import theseus as th\n",
    "import theseus.utils.examples as theg\n",
    "\n",
    "%load_ext autoreload\n",
    "%autoreload 2\n",
    "\n",
    "torch.set_default_dtype(torch.double)\n",
    "\n",
    "device = \"cuda:0\" if torch.cuda.is_available else \"cpu\"\n",
    "seed = 0\n",
    "torch.random.manual_seed(seed)\n",
    "random.seed(seed)\n",
    "np.random.seed(seed)\n",
    "\n",
    "mpl.rcParams[\"figure.facecolor\"] = \"white\"\n",
    "mpl.rcParams[\"font.size\"] = 16"
   ]
  },
  {
   "cell_type": "code",
   "execution_count": 2,
   "id": "fd4e3b2a",
   "metadata": {},
   "outputs": [
    {
     "name": "stdout",
     "output_type": "stream",
     "text": [
      "23\n",
      "dict_keys(['map_tensor', 'sdf_origin', 'cell_size', 'sdf_data', 'expert_trajectory', 'file_id'])\n",
      "map_tensor          : torch.Size([32, 128, 128])\n",
      "sdf_origin          : torch.Size([32, 2])\n",
      "cell_size           : torch.Size([32, 1])\n",
      "sdf_data            : torch.Size([32, 128, 128])\n",
      "expert_trajectory   : torch.Size([32, 4, 101])\n",
      "file_id             : ['tarpit_15', 'tarpit_682', 'tarpit_244', 'tarpit_598', 'tarpit_317', 'tarpit_970', 'tarpit_940', 'tarpit_303', 'tarpit_683', 'tarpit_117', 'tarpit_150', 'tarpit_242', 'tarpit_664', 'tarpit_985', 'tarpit_696', 'tarpit_971', 'tarpit_710', 'tarpit_648', 'tarpit_181', 'tarpit_719', 'tarpit_190', 'tarpit_288', 'tarpit_668', 'tarpit_105', 'tarpit_941', 'tarpit_75', 'tarpit_201', 'tarpit_95', 'tarpit_229', 'tarpit_35', 'tarpit_55', 'tarpit_631']\n"
     ]
    }
   ],
   "source": [
    "dataset_dir = \"/home/peteryu/SEANRobotGuide/data/motion-planning-2d/dataset\"\n",
    "train_dataset = theg.TrajectoryDataset(True, 1000, dataset_dir, val_ratio=0.2, map_type=\"tarpit\", filter_collision_maps=True)\n",
    "train_dl = torch.utils.data.DataLoader(train_dataset, batch_size=32, shuffle=True, drop_last=True)\n",
    "\n",
    "test_dataset = theg.TrajectoryDataset(False, 1000, dataset_dir, val_ratio=0.2, map_type=\"tarpit\", filter_collision_maps=False)\n",
    "test_dl = torch.utils.data.DataLoader(test_dataset, batch_size=32, shuffle=True, drop_last=True)\n",
    "\n",
    "print(len(train_dl))\n",
    "\n",
    "batch = next(iter(train_dl))\n",
    "print(batch.keys())\n",
    "for k, v in batch.items():\n",
    "    if k != \"file_id\":\n",
    "        print(f\"{k:20s}: {v.shape}\")\n",
    "    else:\n",
    "        print(f\"{k:20s}: {v}\")"
   ]
  },
  {
   "cell_type": "code",
   "execution_count": 3,
   "id": "b3ee3713",
   "metadata": {},
   "outputs": [],
   "source": [
    "trajectory_len = 101\n",
    "num_time_steps = trajectory_len - 1\n",
    "map_size = 128\n",
    "safety_distance = 0.4\n",
    "robot_radius = 0.4\n",
    "total_time = 10.0\n",
    "dt_val = total_time / num_time_steps\n",
    "Qc_inv = [[1.0, 0.0], [0.0, 1.0]]\n",
    "collision_w = 20.0\n",
    "boundary_w = 100.0"
   ]
  },
  {
   "cell_type": "code",
   "execution_count": 4,
   "id": "26d64ee5",
   "metadata": {},
   "outputs": [],
   "source": [
    "planner = theg.MotionPlanner(\n",
    "    optim_method=\"levenberg_marquardt\",\n",
    "    max_optim_iters=2,\n",
    "    step_size=0.3,\n",
    "    map_size=map_size,\n",
    "    epsilon_dist=safety_distance + robot_radius,\n",
    "    total_time=total_time,\n",
    "    collision_weight=collision_w,\n",
    "    Qc_inv=Qc_inv,\n",
    "    num_time_steps=num_time_steps,\n",
    "    device=device,\n",
    ")"
   ]
  },
  {
   "cell_type": "code",
   "execution_count": 5,
   "id": "1c0b8695",
   "metadata": {},
   "outputs": [],
   "source": [
    "from model import CNN, prepare_training_data, loss_func\n",
    "CNN_model = CNN()\n",
    "CNN_model.to(device)\n",
    "model_optimizer = torch.optim.Adam(CNN_model.parameters(), lr=0.04) "
   ]
  },
  {
   "cell_type": "code",
   "execution_count": 6,
   "id": "4ecf597c",
   "metadata": {},
   "outputs": [],
   "source": [
    "def get_straight_line_inputs(start, goal):\n",
    "    # Returns a dictionary with pose and velocity variable names associated to a \n",
    "    # straight line trajectory between start and goal\n",
    "    start_goal_dist = goal - start\n",
    "    avg_vel = start_goal_dist / total_time\n",
    "    unit_trajectory_len = start_goal_dist / (trajectory_len - 1)\n",
    "    input_dict = {}\n",
    "    for i in range(trajectory_len):\n",
    "        input_dict[f\"pose_{i}\"] = start + unit_trajectory_len * i\n",
    "        if i == 0 or i == trajectory_len - 1:\n",
    "            input_dict[f\"vel_{i}\"] = torch.zeros_like(avg_vel)\n",
    "        else:\n",
    "            input_dict[f\"vel_{i}\"] = avg_vel\n",
    "    return input_dict"
   ]
  },
  {
   "cell_type": "code",
   "execution_count": 7,
   "id": "c276fe72",
   "metadata": {},
   "outputs": [],
   "source": [
    "def get_traj_dict_from_tensor_path(output_path, start_and_goal):\n",
    "    # Returns a dictionary with pose and velocity variable names associated to a \n",
    "    # trajectory between start and goal outputted by the CNN model\n",
    "    # output_path has size [32,1,198], start_and_goal has size [32,1,4]\n",
    "    \n",
    "    step_time = 0.1 # given by total time = 10.0 divided by 100 timesteps\n",
    "    output_path = torch.squeeze(output_path, 1)\n",
    "    start_and_goal = torch.squeeze(start_and_goal, 1)\n",
    "    input_dict = {}\n",
    "    input_dict[\"pose_0\"] = start_and_goal[:, :2].to(device)\n",
    "    input_dict[\"vel_0\"] = torch.zeros(32, 2).to(device)\n",
    "    input_dict[\"pose_100\"] = start_and_goal[:, 2:].to(device)\n",
    "    input_dict[\"vel_100\"] = torch.zeros(32, 2).to(device)\n",
    "    \n",
    "    for i in range(1, 100):\n",
    "        input_dict[f\"pose_{i}\"] = output_path[:, 2*i-2:2*i].to(device)\n",
    "        input_dict[f\"vel_{i}\"] = ((input_dict[f\"pose_{i}\"] - input_dict[f\"pose_{i-1}\"])/step_time).to(device)\n",
    "        \n",
    "    return input_dict"
   ]
  },
  {
   "cell_type": "code",
   "execution_count": 8,
   "id": "8050f46c",
   "metadata": {},
   "outputs": [
    {
     "name": "stdout",
     "output_type": "stream",
     "text": [
      "torch.Size([32, 2]) False\n"
     ]
    }
   ],
   "source": [
    "batch = next(iter(train_dl))\n",
    "with torch.no_grad():\n",
    "    map_tensor, start_and_goal, label_traj = \\\n",
    "            prepare_training_data(batch, batchsize=32, include_sdf=False)\n",
    "    output = CNN_model(map_tensor, start_and_goal)\n",
    "\n",
    "    initial_traj_dict = get_traj_dict_from_tensor_path(output, start_and_goal)\n",
    "    print(initial_traj_dict[\"pose_0\"].size(), initial_traj_dict[\"pose_0\"].requires_grad)"
   ]
  },
  {
   "cell_type": "code",
   "execution_count": 13,
   "id": "ede2bb93",
   "metadata": {},
   "outputs": [
    {
     "ename": "RuntimeError",
     "evalue": "CUDA out of memory. Tried to allocate 490.00 MiB (GPU 0; 5.80 GiB total capacity; 3.04 GiB already allocated; 219.94 MiB free; 3.38 GiB reserved in total by PyTorch) If reserved memory is >> allocated memory try setting max_split_size_mb to avoid fragmentation.  See documentation for Memory Management and PYTORCH_CUDA_ALLOC_CONF",
     "output_type": "error",
     "traceback": [
      "\u001b[0;31m---------------------------------------------------------------------------\u001b[0m",
      "\u001b[0;31mRuntimeError\u001b[0m                              Traceback (most recent call last)",
      "Input \u001b[0;32mIn [13]\u001b[0m, in \u001b[0;36m<cell line: 11>\u001b[0;34m()\u001b[0m\n\u001b[1;32m     14\u001b[0m map_tensor, start_and_goal, label_traj \u001b[38;5;241m=\u001b[39m \\\n\u001b[1;32m     15\u001b[0m     prepare_training_data(batch, batchsize\u001b[38;5;241m=\u001b[39m\u001b[38;5;241m32\u001b[39m, include_sdf\u001b[38;5;241m=\u001b[39m\u001b[38;5;28;01mFalse\u001b[39;00m)\n\u001b[1;32m     18\u001b[0m \u001b[38;5;66;03m# Step 1: Generate an initial trajectory by querying the model on the set of maps.\u001b[39;00m\n\u001b[0;32m---> 19\u001b[0m output \u001b[38;5;241m=\u001b[39m \u001b[43mCNN_model\u001b[49m\u001b[43m(\u001b[49m\u001b[43mmap_tensor\u001b[49m\u001b[43m,\u001b[49m\u001b[43m \u001b[49m\u001b[43mstart_and_goal\u001b[49m\u001b[43m)\u001b[49m\n\u001b[1;32m     20\u001b[0m initial_traj_dict \u001b[38;5;241m=\u001b[39m get_traj_dict_from_tensor_path(output, start_and_goal)\n\u001b[1;32m     22\u001b[0m \u001b[38;5;66;03m# This updates the motion planner's input dictionary with the trajectories produced above.\u001b[39;00m\n",
      "File \u001b[0;32m~/miniconda3/envs/py38/lib/python3.8/site-packages/torch/nn/modules/module.py:1130\u001b[0m, in \u001b[0;36mModule._call_impl\u001b[0;34m(self, *input, **kwargs)\u001b[0m\n\u001b[1;32m   1126\u001b[0m \u001b[38;5;66;03m# If we don't have any hooks, we want to skip the rest of the logic in\u001b[39;00m\n\u001b[1;32m   1127\u001b[0m \u001b[38;5;66;03m# this function, and just call forward.\u001b[39;00m\n\u001b[1;32m   1128\u001b[0m \u001b[38;5;28;01mif\u001b[39;00m \u001b[38;5;129;01mnot\u001b[39;00m (\u001b[38;5;28mself\u001b[39m\u001b[38;5;241m.\u001b[39m_backward_hooks \u001b[38;5;129;01mor\u001b[39;00m \u001b[38;5;28mself\u001b[39m\u001b[38;5;241m.\u001b[39m_forward_hooks \u001b[38;5;129;01mor\u001b[39;00m \u001b[38;5;28mself\u001b[39m\u001b[38;5;241m.\u001b[39m_forward_pre_hooks \u001b[38;5;129;01mor\u001b[39;00m _global_backward_hooks\n\u001b[1;32m   1129\u001b[0m         \u001b[38;5;129;01mor\u001b[39;00m _global_forward_hooks \u001b[38;5;129;01mor\u001b[39;00m _global_forward_pre_hooks):\n\u001b[0;32m-> 1130\u001b[0m     \u001b[38;5;28;01mreturn\u001b[39;00m \u001b[43mforward_call\u001b[49m\u001b[43m(\u001b[49m\u001b[38;5;241;43m*\u001b[39;49m\u001b[38;5;28;43minput\u001b[39;49m\u001b[43m,\u001b[49m\u001b[43m \u001b[49m\u001b[38;5;241;43m*\u001b[39;49m\u001b[38;5;241;43m*\u001b[39;49m\u001b[43mkwargs\u001b[49m\u001b[43m)\u001b[49m\n\u001b[1;32m   1131\u001b[0m \u001b[38;5;66;03m# Do not call functions when jit is used\u001b[39;00m\n\u001b[1;32m   1132\u001b[0m full_backward_hooks, non_full_backward_hooks \u001b[38;5;241m=\u001b[39m [], []\n",
      "File \u001b[0;32m~/SEANRobotGuide/demo/model.py:48\u001b[0m, in \u001b[0;36mCNN.forward\u001b[0;34m(self, map_info, start_and_goal, batchsize, verbose)\u001b[0m\n\u001b[1;32m     47\u001b[0m \u001b[38;5;28;01mdef\u001b[39;00m \u001b[38;5;21mforward\u001b[39m(\u001b[38;5;28mself\u001b[39m, map_info, start_and_goal, batchsize\u001b[38;5;241m=\u001b[39m\u001b[38;5;241m32\u001b[39m, verbose\u001b[38;5;241m=\u001b[39m\u001b[38;5;28;01mFalse\u001b[39;00m):\n\u001b[0;32m---> 48\u001b[0m     map_info \u001b[38;5;241m=\u001b[39m \u001b[38;5;28;43mself\u001b[39;49m\u001b[38;5;241;43m.\u001b[39;49m\u001b[43mwithout_start_goal\u001b[49m\u001b[43m(\u001b[49m\u001b[43mmap_info\u001b[49m\u001b[43m)\u001b[49m\n\u001b[1;32m     49\u001b[0m     map_info \u001b[38;5;241m=\u001b[39m (map_info\u001b[38;5;241m.\u001b[39mreshape(batchsize, \u001b[38;5;241m1\u001b[39m, \u001b[38;5;241m-\u001b[39m\u001b[38;5;241m1\u001b[39m))\u001b[38;5;241m*\u001b[39m\u001b[38;5;28mself\u001b[39m\u001b[38;5;241m.\u001b[39mmap_weight\n\u001b[1;32m     50\u001b[0m     \u001b[38;5;28;01mif\u001b[39;00m verbose:\n",
      "File \u001b[0;32m~/miniconda3/envs/py38/lib/python3.8/site-packages/torch/nn/modules/module.py:1130\u001b[0m, in \u001b[0;36mModule._call_impl\u001b[0;34m(self, *input, **kwargs)\u001b[0m\n\u001b[1;32m   1126\u001b[0m \u001b[38;5;66;03m# If we don't have any hooks, we want to skip the rest of the logic in\u001b[39;00m\n\u001b[1;32m   1127\u001b[0m \u001b[38;5;66;03m# this function, and just call forward.\u001b[39;00m\n\u001b[1;32m   1128\u001b[0m \u001b[38;5;28;01mif\u001b[39;00m \u001b[38;5;129;01mnot\u001b[39;00m (\u001b[38;5;28mself\u001b[39m\u001b[38;5;241m.\u001b[39m_backward_hooks \u001b[38;5;129;01mor\u001b[39;00m \u001b[38;5;28mself\u001b[39m\u001b[38;5;241m.\u001b[39m_forward_hooks \u001b[38;5;129;01mor\u001b[39;00m \u001b[38;5;28mself\u001b[39m\u001b[38;5;241m.\u001b[39m_forward_pre_hooks \u001b[38;5;129;01mor\u001b[39;00m _global_backward_hooks\n\u001b[1;32m   1129\u001b[0m         \u001b[38;5;129;01mor\u001b[39;00m _global_forward_hooks \u001b[38;5;129;01mor\u001b[39;00m _global_forward_pre_hooks):\n\u001b[0;32m-> 1130\u001b[0m     \u001b[38;5;28;01mreturn\u001b[39;00m \u001b[43mforward_call\u001b[49m\u001b[43m(\u001b[49m\u001b[38;5;241;43m*\u001b[39;49m\u001b[38;5;28;43minput\u001b[39;49m\u001b[43m,\u001b[49m\u001b[43m \u001b[49m\u001b[38;5;241;43m*\u001b[39;49m\u001b[38;5;241;43m*\u001b[39;49m\u001b[43mkwargs\u001b[49m\u001b[43m)\u001b[49m\n\u001b[1;32m   1131\u001b[0m \u001b[38;5;66;03m# Do not call functions when jit is used\u001b[39;00m\n\u001b[1;32m   1132\u001b[0m full_backward_hooks, non_full_backward_hooks \u001b[38;5;241m=\u001b[39m [], []\n",
      "File \u001b[0;32m~/miniconda3/envs/py38/lib/python3.8/site-packages/torch/nn/modules/container.py:139\u001b[0m, in \u001b[0;36mSequential.forward\u001b[0;34m(self, input)\u001b[0m\n\u001b[1;32m    137\u001b[0m \u001b[38;5;28;01mdef\u001b[39;00m \u001b[38;5;21mforward\u001b[39m(\u001b[38;5;28mself\u001b[39m, \u001b[38;5;28minput\u001b[39m):\n\u001b[1;32m    138\u001b[0m     \u001b[38;5;28;01mfor\u001b[39;00m module \u001b[38;5;129;01min\u001b[39;00m \u001b[38;5;28mself\u001b[39m:\n\u001b[0;32m--> 139\u001b[0m         \u001b[38;5;28minput\u001b[39m \u001b[38;5;241m=\u001b[39m \u001b[43mmodule\u001b[49m\u001b[43m(\u001b[49m\u001b[38;5;28;43minput\u001b[39;49m\u001b[43m)\u001b[49m\n\u001b[1;32m    140\u001b[0m     \u001b[38;5;28;01mreturn\u001b[39;00m \u001b[38;5;28minput\u001b[39m\n",
      "File \u001b[0;32m~/miniconda3/envs/py38/lib/python3.8/site-packages/torch/nn/modules/module.py:1130\u001b[0m, in \u001b[0;36mModule._call_impl\u001b[0;34m(self, *input, **kwargs)\u001b[0m\n\u001b[1;32m   1126\u001b[0m \u001b[38;5;66;03m# If we don't have any hooks, we want to skip the rest of the logic in\u001b[39;00m\n\u001b[1;32m   1127\u001b[0m \u001b[38;5;66;03m# this function, and just call forward.\u001b[39;00m\n\u001b[1;32m   1128\u001b[0m \u001b[38;5;28;01mif\u001b[39;00m \u001b[38;5;129;01mnot\u001b[39;00m (\u001b[38;5;28mself\u001b[39m\u001b[38;5;241m.\u001b[39m_backward_hooks \u001b[38;5;129;01mor\u001b[39;00m \u001b[38;5;28mself\u001b[39m\u001b[38;5;241m.\u001b[39m_forward_hooks \u001b[38;5;129;01mor\u001b[39;00m \u001b[38;5;28mself\u001b[39m\u001b[38;5;241m.\u001b[39m_forward_pre_hooks \u001b[38;5;129;01mor\u001b[39;00m _global_backward_hooks\n\u001b[1;32m   1129\u001b[0m         \u001b[38;5;129;01mor\u001b[39;00m _global_forward_hooks \u001b[38;5;129;01mor\u001b[39;00m _global_forward_pre_hooks):\n\u001b[0;32m-> 1130\u001b[0m     \u001b[38;5;28;01mreturn\u001b[39;00m \u001b[43mforward_call\u001b[49m\u001b[43m(\u001b[49m\u001b[38;5;241;43m*\u001b[39;49m\u001b[38;5;28;43minput\u001b[39;49m\u001b[43m,\u001b[49m\u001b[43m \u001b[49m\u001b[38;5;241;43m*\u001b[39;49m\u001b[38;5;241;43m*\u001b[39;49m\u001b[43mkwargs\u001b[49m\u001b[43m)\u001b[49m\n\u001b[1;32m   1131\u001b[0m \u001b[38;5;66;03m# Do not call functions when jit is used\u001b[39;00m\n\u001b[1;32m   1132\u001b[0m full_backward_hooks, non_full_backward_hooks \u001b[38;5;241m=\u001b[39m [], []\n",
      "File \u001b[0;32m~/miniconda3/envs/py38/lib/python3.8/site-packages/torch/nn/modules/batchnorm.py:168\u001b[0m, in \u001b[0;36m_BatchNorm.forward\u001b[0;34m(self, input)\u001b[0m\n\u001b[1;32m    161\u001b[0m     bn_training \u001b[38;5;241m=\u001b[39m (\u001b[38;5;28mself\u001b[39m\u001b[38;5;241m.\u001b[39mrunning_mean \u001b[38;5;129;01mis\u001b[39;00m \u001b[38;5;28;01mNone\u001b[39;00m) \u001b[38;5;129;01mand\u001b[39;00m (\u001b[38;5;28mself\u001b[39m\u001b[38;5;241m.\u001b[39mrunning_var \u001b[38;5;129;01mis\u001b[39;00m \u001b[38;5;28;01mNone\u001b[39;00m)\n\u001b[1;32m    163\u001b[0m \u001b[38;5;124mr\u001b[39m\u001b[38;5;124;03m\"\"\"\u001b[39;00m\n\u001b[1;32m    164\u001b[0m \u001b[38;5;124;03mBuffers are only updated if they are to be tracked and we are in training mode. Thus they only need to be\u001b[39;00m\n\u001b[1;32m    165\u001b[0m \u001b[38;5;124;03mpassed when the update should occur (i.e. in training mode when they are tracked), or when buffer stats are\u001b[39;00m\n\u001b[1;32m    166\u001b[0m \u001b[38;5;124;03mused for normalization (i.e. in eval mode when buffers are not None).\u001b[39;00m\n\u001b[1;32m    167\u001b[0m \u001b[38;5;124;03m\"\"\"\u001b[39;00m\n\u001b[0;32m--> 168\u001b[0m \u001b[38;5;28;01mreturn\u001b[39;00m \u001b[43mF\u001b[49m\u001b[38;5;241;43m.\u001b[39;49m\u001b[43mbatch_norm\u001b[49m\u001b[43m(\u001b[49m\n\u001b[1;32m    169\u001b[0m \u001b[43m    \u001b[49m\u001b[38;5;28;43minput\u001b[39;49m\u001b[43m,\u001b[49m\n\u001b[1;32m    170\u001b[0m \u001b[43m    \u001b[49m\u001b[38;5;66;43;03m# If buffers are not to be tracked, ensure that they won't be updated\u001b[39;49;00m\n\u001b[1;32m    171\u001b[0m \u001b[43m    \u001b[49m\u001b[38;5;28;43mself\u001b[39;49m\u001b[38;5;241;43m.\u001b[39;49m\u001b[43mrunning_mean\u001b[49m\n\u001b[1;32m    172\u001b[0m \u001b[43m    \u001b[49m\u001b[38;5;28;43;01mif\u001b[39;49;00m\u001b[43m \u001b[49m\u001b[38;5;129;43;01mnot\u001b[39;49;00m\u001b[43m \u001b[49m\u001b[38;5;28;43mself\u001b[39;49m\u001b[38;5;241;43m.\u001b[39;49m\u001b[43mtraining\u001b[49m\u001b[43m \u001b[49m\u001b[38;5;129;43;01mor\u001b[39;49;00m\u001b[43m \u001b[49m\u001b[38;5;28;43mself\u001b[39;49m\u001b[38;5;241;43m.\u001b[39;49m\u001b[43mtrack_running_stats\u001b[49m\n\u001b[1;32m    173\u001b[0m \u001b[43m    \u001b[49m\u001b[38;5;28;43;01melse\u001b[39;49;00m\u001b[43m \u001b[49m\u001b[38;5;28;43;01mNone\u001b[39;49;00m\u001b[43m,\u001b[49m\n\u001b[1;32m    174\u001b[0m \u001b[43m    \u001b[49m\u001b[38;5;28;43mself\u001b[39;49m\u001b[38;5;241;43m.\u001b[39;49m\u001b[43mrunning_var\u001b[49m\u001b[43m \u001b[49m\u001b[38;5;28;43;01mif\u001b[39;49;00m\u001b[43m \u001b[49m\u001b[38;5;129;43;01mnot\u001b[39;49;00m\u001b[43m \u001b[49m\u001b[38;5;28;43mself\u001b[39;49m\u001b[38;5;241;43m.\u001b[39;49m\u001b[43mtraining\u001b[49m\u001b[43m \u001b[49m\u001b[38;5;129;43;01mor\u001b[39;49;00m\u001b[43m \u001b[49m\u001b[38;5;28;43mself\u001b[39;49m\u001b[38;5;241;43m.\u001b[39;49m\u001b[43mtrack_running_stats\u001b[49m\u001b[43m \u001b[49m\u001b[38;5;28;43;01melse\u001b[39;49;00m\u001b[43m \u001b[49m\u001b[38;5;28;43;01mNone\u001b[39;49;00m\u001b[43m,\u001b[49m\n\u001b[1;32m    175\u001b[0m \u001b[43m    \u001b[49m\u001b[38;5;28;43mself\u001b[39;49m\u001b[38;5;241;43m.\u001b[39;49m\u001b[43mweight\u001b[49m\u001b[43m,\u001b[49m\n\u001b[1;32m    176\u001b[0m \u001b[43m    \u001b[49m\u001b[38;5;28;43mself\u001b[39;49m\u001b[38;5;241;43m.\u001b[39;49m\u001b[43mbias\u001b[49m\u001b[43m,\u001b[49m\n\u001b[1;32m    177\u001b[0m \u001b[43m    \u001b[49m\u001b[43mbn_training\u001b[49m\u001b[43m,\u001b[49m\n\u001b[1;32m    178\u001b[0m \u001b[43m    \u001b[49m\u001b[43mexponential_average_factor\u001b[49m\u001b[43m,\u001b[49m\n\u001b[1;32m    179\u001b[0m \u001b[43m    \u001b[49m\u001b[38;5;28;43mself\u001b[39;49m\u001b[38;5;241;43m.\u001b[39;49m\u001b[43meps\u001b[49m\u001b[43m,\u001b[49m\n\u001b[1;32m    180\u001b[0m \u001b[43m\u001b[49m\u001b[43m)\u001b[49m\n",
      "File \u001b[0;32m~/miniconda3/envs/py38/lib/python3.8/site-packages/torch/nn/functional.py:2438\u001b[0m, in \u001b[0;36mbatch_norm\u001b[0;34m(input, running_mean, running_var, weight, bias, training, momentum, eps)\u001b[0m\n\u001b[1;32m   2435\u001b[0m \u001b[38;5;28;01mif\u001b[39;00m training:\n\u001b[1;32m   2436\u001b[0m     _verify_batch_size(\u001b[38;5;28minput\u001b[39m\u001b[38;5;241m.\u001b[39msize())\n\u001b[0;32m-> 2438\u001b[0m \u001b[38;5;28;01mreturn\u001b[39;00m \u001b[43mtorch\u001b[49m\u001b[38;5;241;43m.\u001b[39;49m\u001b[43mbatch_norm\u001b[49m\u001b[43m(\u001b[49m\n\u001b[1;32m   2439\u001b[0m \u001b[43m    \u001b[49m\u001b[38;5;28;43minput\u001b[39;49m\u001b[43m,\u001b[49m\u001b[43m \u001b[49m\u001b[43mweight\u001b[49m\u001b[43m,\u001b[49m\u001b[43m \u001b[49m\u001b[43mbias\u001b[49m\u001b[43m,\u001b[49m\u001b[43m \u001b[49m\u001b[43mrunning_mean\u001b[49m\u001b[43m,\u001b[49m\u001b[43m \u001b[49m\u001b[43mrunning_var\u001b[49m\u001b[43m,\u001b[49m\u001b[43m \u001b[49m\u001b[43mtraining\u001b[49m\u001b[43m,\u001b[49m\u001b[43m \u001b[49m\u001b[43mmomentum\u001b[49m\u001b[43m,\u001b[49m\u001b[43m \u001b[49m\u001b[43meps\u001b[49m\u001b[43m,\u001b[49m\u001b[43m \u001b[49m\u001b[43mtorch\u001b[49m\u001b[38;5;241;43m.\u001b[39;49m\u001b[43mbackends\u001b[49m\u001b[38;5;241;43m.\u001b[39;49m\u001b[43mcudnn\u001b[49m\u001b[38;5;241;43m.\u001b[39;49m\u001b[43menabled\u001b[49m\n\u001b[1;32m   2440\u001b[0m \u001b[43m\u001b[49m\u001b[43m)\u001b[49m\n",
      "\u001b[0;31mRuntimeError\u001b[0m: CUDA out of memory. Tried to allocate 490.00 MiB (GPU 0; 5.80 GiB total capacity; 3.04 GiB already allocated; 219.94 MiB free; 3.38 GiB reserved in total by PyTorch) If reserved memory is >> allocated memory try setting max_split_size_mb to avoid fragmentation.  See documentation for Memory Management and PYTORCH_CUDA_ALLOC_CONF"
     ]
    }
   ],
   "source": [
    "initial_trajectory_dicts = []\n",
    "best_loss = float(\"inf\")\n",
    "losses = []\n",
    "num_epochs = 10\n",
    "best_epoch = None\n",
    "\n",
    "# For speed considerations, we set the max number of optimizer iterations to a low number (2).\n",
    "# This will also encourage the initial trajectory model to produce trajectories of higher quality.\n",
    "planner.layer.optimizer.set_params(max_iterations=2)\n",
    "CNN_model.train()\n",
    "for epoch in range(num_epochs):\n",
    "    for batch in train_dl:\n",
    "        CNN_model.zero_grad()\n",
    "        map_tensor, start_and_goal, label_traj = \\\n",
    "            prepare_training_data(batch, batchsize=32, include_sdf=False)\n",
    "        \n",
    "        \n",
    "        # Step 1: Generate an initial trajectory by querying the model on the set of maps.\n",
    "        output = CNN_model(map_tensor, start_and_goal)\n",
    "        initial_traj_dict = get_traj_dict_from_tensor_path(output, start_and_goal)\n",
    "        \n",
    "        # This updates the motion planner's input dictionary with the trajectories produced above.\n",
    "        start = batch[\"expert_trajectory\"][:, :2, 0].to(device)\n",
    "        goal = batch[\"expert_trajectory\"][:, :2, -1].to(device)\n",
    "        planner_inputs = {\n",
    "            \"sdf_origin\": batch[\"sdf_origin\"].to(device),\n",
    "            \"start\": start.to(device),\n",
    "            \"goal\": goal.to(device),\n",
    "            \"cell_size\": batch[\"cell_size\"].to(device),\n",
    "            \"sdf_data\": batch[\"sdf_data\"].to(device),\n",
    "        }\n",
    "        \n",
    "        planner_inputs.update(initial_traj_dict)\n",
    "        \n",
    "        \n",
    "        # Step 2: Optimize to improve on the initial trajectories produced by the model.\n",
    "        planner.layer.forward(\n",
    "            planner_inputs,\n",
    "            optimizer_kwargs={\n",
    "                \"verbose\": False,\n",
    "                \"damping\": 0.1,\n",
    "            }\n",
    "        )\n",
    "\n",
    "        initial_trajectory_dicts.append(\n",
    "            dict([(k, v.detach().clone()) for k, v in initial_traj_dict.items()]))\n",
    "\n",
    "        # Step 3: Compute a loss evaluating the quality of the trajectories.\n",
    "        # The loss consists of two terms. The first one encourages the final trajectory to \n",
    "        # match an expert trajectory available for this map (imitation_loss).\n",
    "        # The second term uses the trajectory planner's total squared error, which also\n",
    "        # encourages the trajectory to be smooth and avoid obstacles. We scale this term\n",
    "        # by a small factor, since otherwise it would completely dominate over the\n",
    "        # imitation loss.\n",
    "        error_loss = planner.objective.error_squared_norm().mean() / planner.objective.dim()\n",
    "        solution_trajectory = planner.get_trajectory()\n",
    "        imitation_loss = F.mse_loss(\n",
    "            batch[\"expert_trajectory\"].to(device), solution_trajectory)\n",
    "        loss = imitation_loss + 0.001 * error_loss\n",
    "        \n",
    "\n",
    "        # Step 4: Do backpropagation through the TheseusLayer and update the model parameters.\n",
    "        loss.backward()\n",
    "        model_optimizer.step()\n",
    "    \n",
    "    if loss.item() < best_loss:\n",
    "        best_loss = loss.item()\n",
    "        best_epoch = epoch\n",
    "    losses.append(loss.item())\n",
    "    print(\"------------------------------------\")\n",
    "    print(f\"             Epoch {epoch}\")\n",
    "    print(\"------------------------------------\")\n",
    "    print(f\"{'Imitation loss':20s}: {imitation_loss.item():.3f}\")\n",
    "    print(f\"{'Error loss':20s}: {error_loss.item():.3f}\")\n",
    "    print(f\"{'Total loss':20s}: {loss.item():.3f}\")\n",
    "    print(\"------------------------------------\")\n",
    "    print(\"------------------------------------\")"
   ]
  },
  {
   "cell_type": "code",
   "execution_count": 12,
   "id": "0bc80845",
   "metadata": {},
   "outputs": [],
   "source": [
    "torch.cuda.empty_cache()"
   ]
  },
  {
   "cell_type": "code",
   "execution_count": null,
   "id": "1c30e2a7",
   "metadata": {},
   "outputs": [],
   "source": []
  }
 ],
 "metadata": {
  "kernelspec": {
   "display_name": "py38",
   "language": "python",
   "name": "py38"
  },
  "language_info": {
   "codemirror_mode": {
    "name": "ipython",
    "version": 3
   },
   "file_extension": ".py",
   "mimetype": "text/x-python",
   "name": "python",
   "nbconvert_exporter": "python",
   "pygments_lexer": "ipython3",
   "version": "3.8.13"
  }
 },
 "nbformat": 4,
 "nbformat_minor": 5
}
